{
 "cells": [
  {
   "cell_type": "markdown",
   "id": "3b00c140",
   "metadata": {},
   "source": [
    "# `PROYECTO INDIVIDUAL 1`\n",
    "## `SISTEMA DE RECOMENDACION PELICULAS Y SERIES`"
   ]
  },
  {
   "cell_type": "markdown",
   "id": "4dbdcb20",
   "metadata": {},
   "source": [
    "## `Analisis Exploratorio de Datos`"
   ]
  },
  {
   "cell_type": "code",
   "execution_count": 3,
   "id": "73dcfa49",
   "metadata": {},
   "outputs": [],
   "source": [
    "import pandas as pd\n",
    "import numpy as np\n",
    "import matplotlib.pyplot as plt\n",
    "import seaborn as sns"
   ]
  },
  {
   "cell_type": "code",
   "execution_count": 6,
   "id": "20a53860",
   "metadata": {},
   "outputs": [],
   "source": [
    "# Importar archivo para trabajar\n",
    "df = pd.read_csv('ENTREGABLES/dataEDA/datafinal.csv')"
   ]
  },
  {
   "cell_type": "code",
   "execution_count": 7,
   "id": "d880b5ed",
   "metadata": {},
   "outputs": [
    {
     "name": "stdout",
     "output_type": "stream",
     "text": [
      "<class 'pandas.core.frame.DataFrame'>\n",
      "RangeIndex: 45346 entries, 0 to 45345\n",
      "Data columns (total 27 columns):\n",
      " #   Column             Non-Null Count  Dtype  \n",
      "---  ------             --------------  -----  \n",
      " 0   id                 45346 non-null  int64  \n",
      " 1   title              45346 non-null  object \n",
      " 2   overview           44400 non-null  object \n",
      " 3   popularity         45346 non-null  float64\n",
      " 4   vote_average       45346 non-null  float64\n",
      " 5   vote_count         45346 non-null  float64\n",
      " 6   status             45266 non-null  object \n",
      " 7   original_language  45335 non-null  object \n",
      " 8   runtime            45346 non-null  int64  \n",
      " 9   budget             45346 non-null  float64\n",
      " 10  revenue            45346 non-null  float64\n",
      " 11  tagline            20386 non-null  object \n",
      " 12  id_btc             3163 non-null   float64\n",
      " 13  name_btc           3163 non-null   object \n",
      " 14  poster_btc         3163 non-null   object \n",
      " 15  backdrop_btc       3163 non-null   object \n",
      " 16  iso_639_1          41554 non-null  object \n",
      " 17  language_name      41431 non-null  object \n",
      " 18  release_year       45346 non-null  int64  \n",
      " 19  return             45346 non-null  float64\n",
      " 20  companies_id       33082 non-null  object \n",
      " 21  companies_name     33082 non-null  object \n",
      " 22  countries_iso      39133 non-null  object \n",
      " 23  countries_name     39133 non-null  object \n",
      " 24  release_date       45346 non-null  object \n",
      " 25  month_time         45346 non-null  object \n",
      " 26  day_time           45346 non-null  object \n",
      "dtypes: float64(7), int64(3), object(17)\n",
      "memory usage: 9.3+ MB\n"
     ]
    }
   ],
   "source": [
    "df.info()"
   ]
  },
  {
   "cell_type": "code",
   "execution_count": null,
   "id": "410050b8",
   "metadata": {},
   "outputs": [],
   "source": []
  },
  {
   "cell_type": "code",
   "execution_count": null,
   "id": "3cfbddaf",
   "metadata": {},
   "outputs": [],
   "source": []
  }
 ],
 "metadata": {
  "kernelspec": {
   "display_name": "Python 3 (ipykernel)",
   "language": "python",
   "name": "python3"
  },
  "language_info": {
   "codemirror_mode": {
    "name": "ipython",
    "version": 3
   },
   "file_extension": ".py",
   "mimetype": "text/x-python",
   "name": "python",
   "nbconvert_exporter": "python",
   "pygments_lexer": "ipython3",
   "version": "3.10.9"
  }
 },
 "nbformat": 4,
 "nbformat_minor": 5
}
