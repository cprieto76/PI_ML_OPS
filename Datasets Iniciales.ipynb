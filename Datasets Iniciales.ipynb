{
 "cells": [
  {
   "cell_type": "markdown",
   "id": "b3d0eaa5",
   "metadata": {},
   "source": [
    "# `PROYECTO INDIVIDUAL 1`\n",
    "## `SISTEMA DE RECOMENDACION PELICULAS Y SERIES`"
   ]
  },
  {
   "cell_type": "markdown",
   "id": "b957f842",
   "metadata": {},
   "source": [
    "### `FUENTE DE DATOS`"
   ]
  },
  {
   "cell_type": "markdown",
   "id": "51499091",
   "metadata": {},
   "source": [
    "'''\n",
    "moviedatasets.csv   \n",
    "\n",
    "[['adult', 'belongs_to_collection', 'budget', 'genres', 'homepage', 'id','imdb_id', 'original_language', 'original_title', ....'overview','popularity', 'poster_path', 'production_companies','production_countries', 'release_date', 'revenue', 'runtime','spoken_languages', 'status', 'tagline', 'title', 'video','vote_average', 'vote_count']]\n",
    "       \n",
    "'''"
   ]
  },
  {
   "cell_type": "markdown",
   "id": "3ea06d63",
   "metadata": {},
   "source": [
    "'''\n",
    "credits.csv\n",
    "\n",
    "[['cast', 'crew', 'id']]\n",
    "\n",
    "'''"
   ]
  },
  {
   "cell_type": "markdown",
   "id": "f0f8a5b9",
   "metadata": {},
   "source": [
    "### `DICCIONARIO DE DATOS`"
   ]
  },
  {
   "cell_type": "markdown",
   "id": "37501c0d",
   "metadata": {},
   "source": [
    "[Link a Diccionario explicativo de campos de moviedatasets.csv](https://docs.google.com/spreadsheets/d/1QkHH5er-74Bpk122tJxy_0D49pJMIwKLurByOfmxzho/edit#gid=0)\n"
   ]
  },
  {
   "cell_type": "markdown",
   "id": "3feb5c5d",
   "metadata": {},
   "source": [
    "### `CREACION DE DATASETS`"
   ]
  },
  {
   "cell_type": "markdown",
   "id": "4bda10c3",
   "metadata": {},
   "source": [
    "'''\n",
    "ETL_Inicial.csv   \n",
    "\n",
    "[['belongs_to_collection', 'budget', 'genres', 'id', 'original_language','overview', 'popularity', 'production_companies',\n",
    "....       'production_countries', 'release_date', 'revenue', 'runtime','spoken_languages', 'status', 'tagline', 'title', \n",
    "....       'vote_average', 'vote_count', 'return', 'release_year']]\n",
    "\n",
    "'''"
   ]
  },
  {
   "cell_type": "markdown",
   "id": "9434e0be",
   "metadata": {},
   "source": [
    "'''\n",
    "dfbelongs.csv \n",
    "\n",
    "[['id', 'belongs_to_collection']]\n",
    "\n",
    "'''"
   ]
  },
  {
   "cell_type": "markdown",
   "id": "4031dcec",
   "metadata": {},
   "source": [
    "'''\n",
    "dfgenres.csv\n",
    "\n",
    "[['id', 'genre_id', 'genre_name']]\n",
    "'''"
   ]
  },
  {
   "cell_type": "code",
   "execution_count": null,
   "id": "5d48fba9",
   "metadata": {},
   "outputs": [],
   "source": []
  }
 ],
 "metadata": {
  "kernelspec": {
   "display_name": "Python 3 (ipykernel)",
   "language": "python",
   "name": "python3"
  },
  "language_info": {
   "codemirror_mode": {
    "name": "ipython",
    "version": 3
   },
   "file_extension": ".py",
   "mimetype": "text/x-python",
   "name": "python",
   "nbconvert_exporter": "python",
   "pygments_lexer": "ipython3",
   "version": "3.10.9"
  }
 },
 "nbformat": 4,
 "nbformat_minor": 5
}
