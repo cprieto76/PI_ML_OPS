{
 "cells": [
  {
   "cell_type": "markdown",
   "id": "3122af31",
   "metadata": {},
   "source": [
    "# `PROYECTO INDIVIDUAL 1`\n",
    "## `SISTEMA DE RECOMENDACION PELICULAS Y SERIES`"
   ]
  },
  {
   "cell_type": "markdown",
   "id": "3f48e6de",
   "metadata": {},
   "source": [
    "### `DATASETS DESANIDADOS`"
   ]
  },
  {
   "cell_type": "markdown",
   "id": "bda5024f",
   "metadata": {},
   "source": [
    "'''\n",
    "belongdes.csv\n",
    "\n",
    "['id', 'belongs_to_collection', 'id_belong', 'name_belong', 'poster_btc','backdrop_btc', 'poster_belong', 'backdrop_belong'],\n",
    "\n",
    "'''"
   ]
  },
  {
   "cell_type": "markdown",
   "id": "450efed4",
   "metadata": {},
   "source": [
    "'''\n",
    "genresdes.csv\n",
    "\n",
    "['id', 'genre_id', 'genre_name']\n",
    "\n",
    "'''"
   ]
  }
 ],
 "metadata": {
  "kernelspec": {
   "display_name": "Python 3 (ipykernel)",
   "language": "python",
   "name": "python3"
  },
  "language_info": {
   "codemirror_mode": {
    "name": "ipython",
    "version": 3
   },
   "file_extension": ".py",
   "mimetype": "text/x-python",
   "name": "python",
   "nbconvert_exporter": "python",
   "pygments_lexer": "ipython3",
   "version": "3.10.9"
  }
 },
 "nbformat": 4,
 "nbformat_minor": 5
}
